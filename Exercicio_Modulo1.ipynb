{
  "nbformat": 4,
  "nbformat_minor": 0,
  "metadata": {
    "colab": {
      "provenance": []
    },
    "kernelspec": {
      "name": "python3",
      "display_name": "Python 3"
    },
    "language_info": {
      "name": "python"
    }
  },
  "cells": [
    {
      "cell_type": "markdown",
      "source": [
        "BOAS PRATICAS"
      ],
      "metadata": {
        "id": "mUYhW6cWboz9"
      }
    },
    {
      "cell_type": "code",
      "source": [
        "# Solicita o nome do usuário e o exibe\n",
        "nome_usuario = input(\"Por favor, insira seu nome: \")\n",
        "print(f\"Olá, {nome_usuario}! Bem-vindo a nossa calculadora do exercicio do Modulo 1!.\")\n",
        "print(f\"Vamos fazer assim, se o primeiro numero inserido for maior que o segundo, vamos somar! Caso contrário vamos subtrair!\")\n",
        "\n",
        "# Solicita os dois números de entrada para as operações\n",
        "num_1 = int(input(\"Por favor, insira o primeiro número: \"))\n",
        "num_2 = int(input(\"Por favor, insira o segundo número: \"))\n",
        "\n",
        "# Operações de soma e subtração\n",
        "if num_1 > num_2:\n",
        "    print(f\"O número {num_1} é maior que o número {num_2},vamos somar!\")\n",
        "    soma = num_1 + num_2\n",
        "    print(f\"O resultado da soma é: {soma}\")\n",
        "else:\n",
        "    print(f\"O número {num_1} é menor ou igual ao número {num_2},deseja subtrair!\")\n",
        "    subtracao = num_1 - num_2\n",
        "    print(f\"O resultado da subtração é: {subtracao}\")\n",
        "\n",
        "# Operações de multiplicação e divisão\n",
        "print(f\"Vamos continuar {nome_usuario}, vamos testar agora outras operações matemáticas!\")\n",
        "\n",
        "# Solicita mais dois números de entrada para as operações\n",
        "num_3 = float(input(\"Por favor, insira o primeiro número: \"))\n",
        "num_4 = float(input(\"Por favor, insira o segundo número: \"))\n",
        "\n",
        "if num_3 < num_4:\n",
        "    print(f\"O número {num_3} é menor que o número {num_4},vamos multiplicar!\")\n",
        "    multipicacao = num_3 * num_4\n",
        "    print(f\"O resultado da multiplicação é: {multipicacao}\")\n",
        "else:\n",
        "    print(f\"O número {num_3} é maior ou igual ao número {num_4},deseja dividir!\")\n",
        "    divisao = num_3 / num_4\n",
        "    print(f\"O resultado da subtração é: {divisao}\")\n"
      ],
      "metadata": {
        "colab": {
          "base_uri": "https://localhost:8080/"
        },
        "id": "zmzP3rx-brfm",
        "outputId": "429d6bbc-31ae-44e3-be99-547292c7b186"
      },
      "execution_count": 9,
      "outputs": [
        {
          "output_type": "stream",
          "name": "stdout",
          "text": [
            "Por favor, insira seu nome: lucca\n",
            "Olá, lucca! Bem-vindo a nossa calculadora do exercicio do Modulo 1!.\n",
            "Vamos fazer assim, se o primeiro numero inserido for maior que o segundo, vamos somar! Caso contrário vamos subtrair!\n",
            "Por favor, insira o primeiro número: 2\n",
            "Por favor, insira o segundo número: 4\n",
            "O número 2 é menor que o número 4,deseja subtrair!\n",
            "O resultado da subtração é: -2\n",
            "Vamos continuar lucca, vamos testar agora outras operações matemáticas!\n",
            "Por favor, insira o primeiro número: 21\n",
            "Por favor, insira o segundo número: 2\n",
            "O número 21.0 é maior ou igual ao número 2.0,deseja dividir!\n",
            "O resultado da subtração é: 10.5\n"
          ]
        }
      ]
    }
  ]
}